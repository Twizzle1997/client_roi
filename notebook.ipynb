{
 "metadata": {
  "language_info": {
   "codemirror_mode": {
    "name": "ipython",
    "version": 3
   },
   "file_extension": ".py",
   "mimetype": "text/x-python",
   "name": "python",
   "nbconvert_exporter": "python",
   "pygments_lexer": "ipython3",
   "version": "3.7.9-final"
  },
  "orig_nbformat": 2,
  "kernelspec": {
   "name": "python3",
   "display_name": "Python 3",
   "language": "python"
  }
 },
 "nbformat": 4,
 "nbformat_minor": 2,
 "cells": [
  {
   "source": [
    "# Tests de l'API PAYS"
   ],
   "cell_type": "markdown",
   "metadata": {}
  },
  {
   "cell_type": "code",
   "execution_count": 1,
   "metadata": {},
   "outputs": [],
   "source": [
    "import requests"
   ]
  },
  {
   "source": [
    "## VISUALISATION D'UN PAYS"
   ],
   "cell_type": "markdown",
   "metadata": {}
  },
  {
   "cell_type": "code",
   "execution_count": 151,
   "metadata": {
    "tags": []
   },
   "outputs": [
    {
     "output_type": "stream",
     "name": "stdout",
     "text": [
      "{\n  \"_id\": {\n    \"$oid\": \"600ad53e00e5733ca87d65da\"\n  }, \n  \"area\": 547557, \n  \"country\": \"France\", \n  \"density\": 119, \n  \"pop\": 65244628\n}\n\n"
     ]
    }
   ],
   "source": [
    "name = \"France\"\n",
    "\n",
    "url = \"http://127.0.0.1:8080/api/request/\" + name\n",
    "response = requests.get(url)\n",
    "print(response.text)"
   ]
  },
  {
   "source": [
    "## AJOUT D'UN PAYS FICTIF"
   ],
   "cell_type": "markdown",
   "metadata": {}
  },
  {
   "cell_type": "code",
   "execution_count": 144,
   "metadata": {
    "tags": []
   },
   "outputs": [
    {
     "output_type": "stream",
     "name": "stdout",
     "text": [
      "{\n  \"_id\": {\n    \"$oid\": \"600c6b0cf937a57479aa3c1f\"\n  }, \n  \"area\": 550548, \n  \"country\": \"Gotham\", \n  \"density\": 283, \n  \"last_update\": {\n    \"$date\": 1611430172536\n  }, \n  \"pop\": 5487935\n}\n\n"
     ]
    }
   ],
   "source": [
    "datas =  {\"name\" : \"Gotham\"}\n",
    "\n",
    "url = \"http://127.0.0.1:8080/api/add\" \n",
    "response = requests.post(url, data=datas)\n",
    "print(response.text)"
   ]
  },
  {
   "source": [
    "## SSUPPRESSION DU PAYS FICTIF"
   ],
   "cell_type": "markdown",
   "metadata": {}
  },
  {
   "cell_type": "code",
   "execution_count": 146,
   "metadata": {
    "tags": []
   },
   "outputs": [
    {
     "output_type": "stream",
     "name": "stdout",
     "text": [
      "{\n  \"Message\": \"The country has been deleted.\"\n}\n\n"
     ]
    }
   ],
   "source": [
    "datas =  {\"name\" : \"Gotham\"}\n",
    "\n",
    "url = \"http://127.0.0.1:8080/api/remove\" \n",
    "response = requests.delete(url, data=datas)\n",
    "print(response.text)"
   ]
  },
  {
   "source": [
    "## VERRIFICATION DE LA SUPPRESSION"
   ],
   "cell_type": "markdown",
   "metadata": {}
  },
  {
   "cell_type": "code",
   "execution_count": 152,
   "metadata": {},
   "outputs": [
    {
     "output_type": "stream",
     "name": "stdout",
     "text": [
      "{\n  \"Message\": \"This country doesn't exist.\"\n}\n\n"
     ]
    }
   ],
   "source": [
    "name = \"Gotham\"\n",
    "\n",
    "url = \"http://127.0.0.1:8080/api/request/\" + name\n",
    "response = requests.get(url)\n",
    "print(response.text)"
   ]
  },
  {
   "source": [
    "## MISE A JOUR D'UN PAYS"
   ],
   "cell_type": "markdown",
   "metadata": {}
  },
  {
   "cell_type": "code",
   "execution_count": 153,
   "metadata": {
    "tags": []
   },
   "outputs": [
    {
     "output_type": "stream",
     "name": "stdout",
     "text": [
      "{\n  \"_id\": {\n    \"$oid\": \"600c6ba6f937a57479aa3c20\"\n  }, \n  \"area\": 244378, \n  \"country\": \"Krypton\", \n  \"density\": 666, \n  \"last_update\": {\n    \"$date\": 1611430503561\n  }, \n  \"pop\": 2488504\n}\n\n"
     ]
    }
   ],
   "source": [
    "datas =  {\"name\" : \"Krypton\", \"couple\" : \"{'density':666}\"}\n",
    "\n",
    "url = \"http://127.0.0.1:8080/api/update\" \n",
    "response = requests.put(url, data=datas)\n",
    "print(response.text)"
   ]
  },
  {
   "source": [
    "## AFFICHAGE PAR TRANCHE DE DENSITE"
   ],
   "cell_type": "markdown",
   "metadata": {}
  },
  {
   "cell_type": "code",
   "execution_count": 121,
   "metadata": {
    "tags": [
     "outputPrepend"
    ]
   },
   "outputs": [
    {
     "output_type": "stream",
     "name": "stdout",
     "text": [
      "  \"pop\": 10202571\n    }, \n    {\n      \"_id\": {\n        \"$oid\": \"600ad53e00e5733ca87d661e\"\n      }, \n      \"area\": 82658, \n      \"country\": \"Azerbaijan\", \n      \"density\": 123, \n      \"pop\": 10120555\n    }, \n    {\n      \"_id\": {\n        \"$oid\": \"600ad53e00e5733ca87d6620\"\n      }, \n      \"area\": 111890, \n      \"country\": \"Honduras\", \n      \"density\": 89, \n      \"pop\": 9871892\n    }, \n    {\n      \"_id\": {\n        \"$oid\": \"600ad53e00e5733ca87d6621\"\n      }, \n      \"area\": 83600, \n      \"country\": \"United Arab Emirates\", \n      \"density\": 118, \n      \"pop\": 9865845\n    }, \n    {\n      \"_id\": {\n        \"$oid\": \"600ad53e00e5733ca87d6622\"\n      }, \n      \"area\": 90530, \n      \"country\": \"Hungary\", \n      \"density\": 107, \n      \"pop\": 9665192\n    }, \n    {\n      \"_id\": {\n        \"$oid\": \"600ad53e00e5733ca87d6623\"\n      }, \n      \"area\": 139960, \n      \"country\": \"Tajikistan\", \n      \"density\": 68, \n      \"pop\": 9492342\n    }, \n    {\n      \"_id\": {\n        \"$oid\": \"600ad53e00e5733ca87d6625\"\n      }, \n      \"area\": 82409, \n      \"country\": \"Austria\", \n      \"density\": 109, \n      \"pop\": 8996022\n    }, \n    {\n      \"_id\": {\n        \"$oid\": \"600ad53e00e5733ca87d6627\"\n      }, \n      \"area\": 87460, \n      \"country\": \"Serbia\", \n      \"density\": 100, \n      \"pop\": 8744288\n    }, \n    {\n      \"_id\": {\n        \"$oid\": \"600ad53e00e5733ca87d662b\"\n      }, \n      \"area\": 72180, \n      \"country\": \"Sierra Leone\", \n      \"density\": 111, \n      \"pop\": 7942879\n    }, \n    {\n      \"_id\": {\n        \"$oid\": \"600ad53e00e5733ca87d662f\"\n      }, \n      \"area\": 108560, \n      \"country\": \"Bulgaria\", \n      \"density\": 64, \n      \"pop\": 6958627\n    }, \n    {\n      \"_id\": {\n        \"$oid\": \"600ad53e00e5733ca87d6632\"\n      }, \n      \"area\": 120340, \n      \"country\": \"Nicaragua\", \n      \"density\": 55, \n      \"pop\": 6608366\n    }, \n    {\n      \"_id\": {\n        \"$oid\": \"600ad53e00e5733ca87d663a\"\n      }, \n      \"area\": 48088, \n      \"country\": \"Slovakia\", \n      \"density\": 114, \n      \"pop\": 5459116\n    }, \n    {\n      \"_id\": {\n        \"$oid\": \"600ad53e00e5733ca87d663e\"\n      }, \n      \"area\": 51060, \n      \"country\": \"Costa Rica\", \n      \"density\": 100, \n      \"pop\": 5084636\n    }, \n    {\n      \"_id\": {\n        \"$oid\": \"600ad53e00e5733ca87d663f\"\n      }, \n      \"area\": 96320, \n      \"country\": \"Liberia\", \n      \"density\": 53, \n      \"pop\": 5032469\n    }, \n    {\n      \"_id\": {\n        \"$oid\": \"600ad53e00e5733ca87d6640\"\n      }, \n      \"area\": 68890, \n      \"country\": \"Ireland\", \n      \"density\": 72, \n      \"pop\": 4926480\n    }, \n    {\n      \"_id\": {\n        \"$oid\": \"600ad53e00e5733ca87d6644\"\n      }, \n      \"area\": 74340, \n      \"country\": \"Panama\", \n      \"density\": 58, \n      \"pop\": 4300667\n    }, \n    {\n      \"_id\": {\n        \"$oid\": \"600ad53e00e5733ca87d6646\"\n      }, \n      \"area\": 55960, \n      \"country\": \"Croatia\", \n      \"density\": 73, \n      \"pop\": 4110214\n    }, \n    {\n      \"_id\": {\n        \"$oid\": \"600ad53e00e5733ca87d6647\"\n      }, \n      \"area\": 32850, \n      \"country\": \"Moldova\", \n      \"density\": 123, \n      \"pop\": 4035814\n    }, \n    {\n      \"_id\": {\n        \"$oid\": \"600ad53e00e5733ca87d6648\"\n      }, \n      \"area\": 69490, \n      \"country\": \"Georgia\", \n      \"density\": 57, \n      \"pop\": 3990681\n    }, \n    {\n      \"_id\": {\n        \"$oid\": \"600ad53e00e5733ca87d664b\"\n      }, \n      \"area\": 51000, \n      \"country\": \"Bosnia and Herzegovina\", \n      \"density\": 64, \n      \"pop\": 3284806\n    }, \n    {\n      \"_id\": {\n        \"$oid\": \"600ad53e00e5733ca87d664d\"\n      }, \n      \"area\": 28470, \n      \"country\": \"Armenia\", \n      \"density\": 104, \n      \"pop\": 2962137\n    }, \n    {\n      \"_id\": {\n        \"$oid\": \"600ad53e00e5733ca87d6650\"\n      }, \n      \"area\": 27400, \n      \"country\": \"Albania\", \n      \"density\": 105, \n      \"pop\": 2878420\n    }, \n    {\n      \"_id\": {\n        \"$oid\": \"600ad53e00e5733ca87d6657\"\n      }, \n      \"area\": 30360, \n      \"country\": \"Lesotho\", \n      \"density\": 71, \n      \"pop\": 2138799\n    }, \n    {\n      \"_id\": {\n        \"$oid\": \"600ad53e00e5733ca87d6658\"\n      }, \n      \"area\": 25220, \n      \"country\": \"North Macedonia\", \n      \"density\": 83, \n      \"pop\": 2083391\n    }, \n    {\n      \"_id\": {\n        \"$oid\": \"600ad53e00e5733ca87d6659\"\n      }, \n      \"area\": 20140, \n      \"country\": \"Slovenia\", \n      \"density\": 103, \n      \"pop\": 2078881\n    }, \n    {\n      \"_id\": {\n        \"$oid\": \"600ad53e00e5733ca87d665a\"\n      }, \n      \"area\": 28120, \n      \"country\": \"Guinea-Bissau\", \n      \"density\": 70, \n      \"pop\": 1958132\n    }, \n    {\n      \"_id\": {\n        \"$oid\": \"600ad53e00e5733ca87d6660\"\n      }, \n      \"area\": 14870, \n      \"country\": \"Timor-Leste\", \n      \"density\": 89, \n      \"pop\": 1313184\n    }, \n    {\n      \"_id\": {\n        \"$oid\": \"600ad53e00e5733ca87d6662\"\n      }, \n      \"area\": 9240, \n      \"country\": \"Cyprus\", \n      \"density\": 131, \n      \"pop\": 1205577\n    }, \n    {\n      \"_id\": {\n        \"$oid\": \"600ad53e00e5733ca87d6663\"\n      }, \n      \"area\": 17200, \n      \"country\": \"Eswatini\", \n      \"density\": 67, \n      \"pop\": 1157707\n    }, \n    {\n      \"_id\": {\n        \"$oid\": \"600ad53e00e5733ca87d6673\"\n      }, \n      \"area\": 5270, \n      \"country\": \"Brunei\", \n      \"density\": 83, \n      \"pop\": 436624\n    }, \n    {\n      \"_id\": {\n        \"$oid\": \"600ad53e00e5733ca87d667d\"\n      }, \n      \"area\": 3660, \n      \"country\": \"French Polynesia\", \n      \"density\": 77, \n      \"pop\": 280580\n    }, \n    {\n      \"_id\": {\n        \"$oid\": \"600ad53e00e5733ca87d6680\"\n      }, \n      \"area\": 2830, \n      \"country\": \"Samoa\", \n      \"density\": 70, \n      \"pop\": 198147\n    }, \n    {\n      \"_id\": {\n        \"$oid\": \"600ad53e00e5733ca87d6690\"\n      }, \n      \"area\": 750, \n      \"country\": \"Dominica\", \n      \"density\": 96, \n      \"pop\": 71950\n    }, \n    {\n      \"_id\": {\n        \"$oid\": \"600ad53e00e5733ca87d6694\"\n      }, \n      \"area\": 460, \n      \"country\": \"Northern Mariana Islands\", \n      \"density\": 125, \n      \"pop\": 57490\n    }, \n    {\n      \"_id\": {\n        \"$oid\": \"600ad53e00e5733ca87d66a1\"\n      }, \n      \"area\": 328, \n      \"country\": \"Caribbean Netherlands\", \n      \"density\": 80, \n      \"pop\": 26173\n    }, \n    {\n      \"_id\": {\n        \"$oid\": \"600ad53e00e5733ca87d66a3\"\n      }, \n      \"area\": 240, \n      \"country\": \"Cook Islands\", \n      \"density\": 73, \n      \"pop\": 17561\n    }, \n    {\n      \"_id\": {\n        \"$oid\": \"600ad53e00e5733ca87d66a6\"\n      }, \n      \"area\": 140, \n      \"country\": \"Wallis & Futuna\", \n      \"density\": 80, \n      \"pop\": 11276\n    }, \n    {\n      \"_id\": {\n        \"$oid\": \"600c59a1315cd55afdb45230\"\n      }, \n      \"area\": 408379, \n      \"country\": \"Gotham&couple\", \n      \"density\": 73, \n      \"last_update\": {\n        \"$date\": 1611425713164\n      }, \n      \"pop\": 1005377\n    }\n  ], \n  \"Tr\\u00e8s peu denses\": [\n    {\n      \"_id\": {\n        \"$oid\": \"600ad53e00e5733ca87d65c7\"\n      }, \n      \"area\": 9147420, \n      \"country\": \"United States\", \n      \"density\": 36, \n      \"pop\": 330610570\n    }, \n    {\n      \"_id\": {\n        \"$oid\": \"600ad53e00e5733ca87d65ca\"\n      }, \n      \"area\": 8358140, \n      \"country\": \"Brazil\", \n      \"density\": 25, \n      \"pop\": 212253150\n    }, \n    {\n      \"_id\": {\n        \"$oid\": \"600ad53e00e5733ca87d65cd\"\n      }, \n      \"area\": 16376870, \n      \"country\": \"Russia\", \n      \"density\": 9, \n      \"pop\": 145922010\n    }, \n    {\n      \"_id\": {\n        \"$oid\": \"600ad53e00e5733ca87d65d4\"\n      }, \n      \"area\": 2267050, \n      \"country\": \"DR Congo\", \n      \"density\": 40, \n      \"pop\": 88972681\n    }, \n    {\n      \"_id\": {\n        \"$oid\": \"600ad53e00e5733ca87d65dd\"\n      }, \n      \"area\": 1213090, \n      \"country\": \"South Africa\", \n      \"density\": 49, \n      \"pop\": 59154802\n    }, \n    {\n      \"_id\": {\n        \"$oid\": \"600ad53e00e5733ca87d65e1\"\n      }, \n      \"area\": 1109500, \n      \"country\": \"Colombia\", \n      \"density\": 46, \n      \"pop\": 50771878\n    }, \n    {\n      \"_id\": {\n        \"$oid\": \"600ad53e00e5733ca87d65e4\"\n      }, \n      \"area\": 2736690, \n      \"country\": \"Argentina\", \n      \"density\": 17, \n      \"pop\": 45111229\n    }, \n    {\n      \"_id\": {\n        \"$oid\": \"600ad53e00e5733ca87d65e5\"\n      }, \n      \"area\": 2381740, \n      \"country\": \"Algeria\", \n      \"density\": 18, \n      \"pop\": 43685618\n    }, \n    {\n      \"_id\": {\n        \"$oid\": \"600ad53e00e5733ca87d65e6\"\n      }, \n      \"area\": 1765048, \n      \"country\": \"Sudan\", \n      \"density\": 25, \n      \"pop\": 43632213\n    }, \n    {\n      \"_id\": {\n        \"$oid\": \"600ad53e00e5733ca87d65eb\"\n      }, \n      \"area\": 9093510, \n      \"country\": \"Canada\", \n      \"density\": 4, \n      \"pop\": 37674770\n    }, \n    {\n      \"_id\": {\n        \"$oid\": \"600ad53e00e5733ca87d65ed\"\n      }, \n      \"area\": 2149690, \n      \"country\": \"Saudi Arabia\", \n      \"density\": 16, \n      \"pop\": 34701377\n    }, \n    {\n      \"_id\": {\n        \"$oid\": \"600ad53e00e5733ca87d65ef\"\n      }, \n      \"area\": 1280000, \n      \"country\": \"Peru\", \n      \"density\": 26, \n      \"pop\": 32876986\n    }, \n    {\n      \"_id\": {\n        \"$oid\": \"600ad53e00e5733ca87d65f0\"\n      }, \n      \"area\": 1246700, \n      \"country\": \"Angola\", \n      \"density\": 26, \n      \"pop\": 32644783\n    }, \n    {\n      \"_id\": {\n        \"$oid\": \"600ad53e00e5733ca87d65f2\"\n      }, \n      \"area\": 786380, \n      \"country\": \"Mozambique\", \n      \"density\": 40, \n      \"pop\": 31067362\n    }, \n    {\n      \"_id\": {\n        \"$oid\": \"600ad53e00e5733ca87d65f6\"\n      }, \n      \"area\": 882050, \n      \"country\": \"Venezuela\", \n      \"density\": 32, \n      \"pop\": 28451828\n    }, \n    {\n      \"_id\": {\n        \"$oid\": \"600ad53e00e5733ca87d65f7\"\n      }, \n      \"area\": 581795, \n      \"country\": \"Madagascar\", \n      \"density\": 48, \n      \"pop\": 27539106\n    }, \n    {\n      \"_id\": {\n        \"$oid\": \"600ad53e00e5733ca87d65fb\"\n      }, \n      \"area\": 7682300, \n      \"country\": \"Australia\", \n      \"density\": 3, \n      \"pop\": 25439164\n    }, \n    {\n      \"_id\": {\n        \"$oid\": \"600ad53e00e5733ca87d65fc\"\n      }, \n      \"area\": 1266700, \n      \"country\": \"Niger\", \n      \"density\": 19, \n      \"pop\": 24014064\n    }, \n    {\n      \"_id\": {\n        \"$oid\": \"600ad53e00e5733ca87d6600\"\n      }, \n      \"area\": 1220190, \n      \"country\": \"Mali\", \n      \"density\": 17, \n      \"pop\": 20125282\n    }, \n    {\n      \"_id\": {\n        \"$oid\": \"600ad53e00e5733ca87d6603\"\n      }, \n      \"area\": 743532, \n      \"country\": \"Chile\", \n      \"density\": 26, \n      \"pop\": 19082804\n    }, \n    {\n      \"_id\": {\n        \"$oid\": \"600ad53e00e5733ca87d6604\"\n      }, \n      \"area\": 2699700, \n      \"country\": \"Kazakhstan\", \n      \"density\": 7, \n      \"pop\": 18730568\n    }, \n    {\n      \"_id\": {\n        \"$oid\": \"600ad53e00e5733ca87d6605\"\n      }, \n      \"area\": 743390, \n      \"country\": \"Zambia\", \n      \"density\": 25, \n      \"pop\": 18273379\n    }, \n    {\n      \"_id\": {\n        \"$oid\": \"600ad53e00e5733ca87d660c\"\n      }, \n      \"area\": 1259200, \n      \"country\": \"Chad\", \n      \"density\": 13, \n      \"pop\": 16324440\n    }, \n    {\n      \"_id\": {\n        \"$oid\": \"600ad53e00e5733ca87d660d\"\n      }, \n      \"area\": 627340, \n      \"country\": \"Somalia\", \n      \"density\": 25, \n      \"pop\": 15798020\n    }, \n    {\n      \"_id\": {\n        \"$oid\": \"600ad53e00e5733ca87d660e\"\n      }, \n      \"area\": 386850, \n      \"country\": \"Zimbabwe\", \n      \"density\": 38, \n      \"pop\": 14818157\n    }, \n    {\n      \"_id\": {\n        \"$oid\": \"600ad53e00e5733ca87d6614\"\n      }, \n      \"area\": 1083300, \n      \"country\": \"Bolivia\", \n      \"density\": 11, \n      \"pop\": 11640159\n    }, \n    {\n      \"_id\": {\n        \"$oid\": \"600ad53e00e5733ca87d6618\"\n      }, \n      \"area\": 610952, \n      \"country\": \"South Sudan\", \n      \"density\": 18, \n      \"pop\": 11166783\n    }, \n    {\n      \"_id\": {\n        \"$oid\": \"600ad53e00e5733ca87d661f\"\n      }, \n      \"area\": 410340, \n      \"country\": \"Sweden\", \n      \"density\": 25, \n      \"pop\": 10086531\n    }, \n    {\n      \"_id\": {\n        \"$oid\": \"600ad53e00e5733ca87d6624\"\n      }, \n      \"area\": 202910, \n      \"country\": \"Belarus\", \n      \"density\": 47, \n      \"pop\": 9449940\n    }, \n    {\n      \"_id\": {\n        \"$oid\": \"600ad53e00e5733ca87d6626\"\n      }, \n      \"area\": 452860, \n      \"country\": \"Papua New Guinea\", \n      \"density\": 20, \n      \"pop\": 8911530\n    }, \n    {\n      \"_id\": {\n        \"$oid\": \"600ad53e00e5733ca87d662d\"\n      }, \n      \"area\": 230800, \n      \"country\": \"Laos\", \n      \"density\": 32, \n      \"pop\": 7253719\n    }, \n    {\n      \"_id\": {\n        \"$oid\": \"600ad53e00e5733ca87d662e\"\n      }, \n      \"area\": 397300, \n      \"country\": \"Paraguay\", \n      \"density\": 18, \n      \"pop\": 7114524\n    }, \n    {\n      \"_id\": {\n        \"$oid\": \"600ad53e00e5733ca87d6630\"\n      }, \n      \"area\": 1759540, \n      \"country\": \"Libya\", \n      \"density\": 4, \n      \"pop\": 6852010\n    }, \n    {\n      \"_id\": {\n        \"$oid\": \"600ad53e00e5733ca87d6633\"\n      }, \n      \"area\": 191800, \n      \"country\": \"Kyrgyzstan\", \n      \"density\": 34, \n      \"pop\": 6501804\n    }, \n    {\n      \"_id\": {\n        \"$oid\": \"600ad53e00e5733ca87d6635\"\n      }, \n      \"area\": 469930, \n      \"country\": \"Turkmenistan\", \n      \"density\": 13, \n      \"pop\": 6012850\n    }, \n    {\n      \"_id\": {\n        \"$oid\": \"600ad53e00e5733ca87d6638\"\n      }, \n      \"area\": 303890, \n      \"country\": \"Finland\", \n      \"density\": 18, \n      \"pop\": 5539002\n    }, \n    {\n      \"_id\": {\n        \"$oid\": \"600ad53e00e5733ca87d6639\"\n      }, \n      \"area\": 341500, \n      \"country\": \"Congo\", \n      \"density\": 16, \n      \"pop\": 5489191\n    }, \n    {\n      \"_id\": {\n        \"$oid\": \"600ad53e00e5733ca87d663b\"\n      }, \n      \"area\": 365268, \n      \"country\": \"Norway\", \n      \"density\": 15, \n      \"pop\": 5412632\n    }, \n    {\n      \"_id\": {\n        \"$oid\": \"600ad53e00e5733ca87d663c\"\n      }, \n      \"area\": 309500, \n      \"country\": \"Oman\", \n      \"density\": 16, \n      \"pop\": 5078933\n    }, \n    {\n      \"_id\": {\n        \"$oid\": \"600ad53e00e5733ca87d6641\"\n      }, \n      \"area\": 622980, \n      \"country\": \"Central African Republic\", \n      \"density\": 8, \n      \"pop\": 4812256\n    }, \n    {\n      \"_id\": {\n        \"$oid\": \"600ad53e00e5733ca87d6642\"\n      }, \n      \"area\": 263310, \n      \"country\": \"New Zealand\", \n      \"density\": 18, \n      \"pop\": 4814272\n    }, \n    {\n      \"_id\": {\n        \"$oid\": \"600ad53e00e5733ca87d6643\"\n      }, \n      \"area\": 1030700, \n      \"country\": \"Mauritania\", \n      \"density\": 5, \n      \"pop\": 4623535\n    }, \n    {\n      \"_id\": {\n        \"$oid\": \"600ad53e00e5733ca87d6649\"\n      }, \n      \"area\": 101000, \n      \"country\": \"Eritrea\", \n      \"density\": 35, \n      \"pop\": 3536285\n    }, \n    {\n      \"_id\": {\n        \"$oid\": \"600ad53e00e5733ca87d664a\"\n      }, \n      \"area\": 175020, \n      \"country\": \"Uruguay\", \n      \"density\": 20, \n      \"pop\": 3471314\n    }, \n    {\n      \"_id\": {\n        \"$oid\": \"600ad53e00e5733ca87d664c\"\n      }, \n      \"area\": 1553560, \n      \"country\": \"Mongolia\", \n      \"density\": 2, \n      \"pop\": 3267320\n    }, \n    {\n      \"_id\": {\n        \"$oid\": \"600ad53e00e5733ca87d6652\"\n      }, \n      \"area\": 62674, \n      \"country\": \"Lithuania\", \n      \"density\": 43, \n      \"pop\": 2729553\n    }, \n    {\n      \"_id\": {\n        \"$oid\": \"600ad53e00e5733ca87d6653\"\n      }, \n      \"area\": 823290, \n      \"country\": \"Namibia\", \n      \"density\": 3, \n      \"pop\": 2531290\n    }, \n    {\n      \"_id\": {\n        \"$oid\": \"600ad53e00e5733ca87d6655\"\n      }, \n      \"area\": 566730, \n      \"country\": \"Botswana\", \n      \"density\": 4, \n      \"pop\": 2341649\n    }, \n    {\n      \"_id\": {\n        \"$oid\": \"600ad53e00e5733ca87d6656\"\n      }, \n      \"area\": 257670, \n      \"country\": \"Gabon\", \n      \"density\": 9, \n      \"pop\": 2214593\n    }, \n    {\n      \"_id\": {\n        \"$oid\": \"600ad53e00e5733ca87d665b\"\n      }, \n      \"area\": 62200, \n      \"country\": \"Latvia\", \n      \"density\": 30, \n      \"pop\": 1890218\n    }, \n    {\n      \"_id\": {\n        \"$oid\": \"600ad53e00e5733ca87d665f\"\n      }, \n      \"area\": 42390, \n      \"country\": \"Estonia\", \n      \"density\": 31, \n      \"pop\": 1326357\n    }, \n    {\n      \"_id\": {\n        \"$oid\": \"600ad53e00e5733ca87d6664\"\n      }, \n      \"area\": 23180, \n      \"country\": \"Djibouti\", \n      \"density\": 43, \n      \"pop\": 985027\n    }, \n    {\n      \"_id\": {\n        \"$oid\": \"600ad53e00e5733ca87d6665\"\n      }, \n      \"area\": 18270, \n      \"country\": \"Fiji\", \n      \"density\": 49, \n      \"pop\": 895128\n    }, \n    {\n      \"_id\": {\n        \"$oid\": \"600ad53e00e5733ca87d6668\"\n      }, \n      \"area\": 196850, \n      \"country\": \"Guyana\", \n      \"density\": 4, \n      \"pop\": 785788\n    }, \n    {\n      \"_id\": {\n        \"$oid\": \"600ad53e00e5733ca87d6669\"\n      }, \n      \"area\": 38117, \n      \"country\": \"Bhutan\", \n      \"density\": 20, \n      \"pop\": 769867\n    }, \n    {\n      \"_id\": {\n        \"$oid\": \"600ad53e00e5733ca87d666a\"\n      }, \n      \"area\": 27990, \n      \"country\": \"Solomon Islands\", \n      \"density\": 25, \n      \"pop\": 683301\n    }, \n    {\n      \"_id\": {\n        \"$oid\": \"600ad53e00e5733ca87d666c\"\n      }, \n      \"area\": 13450, \n      \"country\": \"Montenegro\", \n      \"density\": 47, \n      \"pop\": 628050\n    }, \n    {\n      \"_id\": {\n        \"$oid\": \"600ad53e00e5733ca87d666e\"\n      }, \n      \"area\": 266000, \n      \"country\": \"Western Sahara\", \n      \"density\": 2, \n      \"pop\": 594215\n    }, \n    {\n      \"_id\": {\n        \"$oid\": \"600ad53e00e5733ca87d666f\"\n      }, \n      \"area\": 156000, \n      \"country\": \"Suriname\", \n      \"density\": 4, \n      \"pop\": 585561\n    }, \n    {\n      \"_id\": {\n        \"$oid\": \"600ad53e00e5733ca87d6675\"\n      }, \n      \"area\": 22810, \n      \"country\": \"Belize\", \n      \"density\": 17, \n      \"pop\": 396120\n    }, \n    {\n      \"_id\": {\n        \"$oid\": \"600ad53e00e5733ca87d6676\"\n      }, \n      \"area\": 10010, \n      \"country\": \"Bahamas\", \n      \"density\": 39, \n      \"pop\": 392477\n    }, \n    {\n      \"_id\": {\n        \"$oid\": \"600ad53e00e5733ca87d6678\"\n      }, \n      \"area\": 100250, \n      \"country\": \"Iceland\", \n      \"density\": 3, \n      \"pop\": 340795\n    }, \n    {\n      \"_id\": {\n        \"$oid\": \"600ad53e00e5733ca87d6679\"\n      }, \n      \"area\": 12190, \n      \"country\": \"Vanuatu\", \n      \"density\": 25, \n      \"pop\": 305623\n    }, \n    {\n      \"_id\": {\n        \"$oid\": \"600ad53e00e5733ca87d667a\"\n      }, \n      \"area\": 82200, \n      \"country\": \"French Guiana\", \n      \"density\": 4, \n      \"pop\": 297029\n    }, \n    {\n      \"_id\": {\n        \"$oid\": \"600ad53e00e5733ca87d667c\"\n      }, \n      \"area\": 18280, \n      \"country\": \"New Caledonia\", \n      \"density\": 16, \n      \"pop\": 284938\n    }, \n    {\n      \"_id\": {\n        \"$oid\": \"600ad53e00e5733ca87d6695\"\n      }, \n      \"area\": 410450, \n      \"country\": \"Greenland\", \n      \"density\": 0, \n      \"pop\": 56750\n    }, \n    {\n      \"_id\": {\n        \"$oid\": \"600ad53e00e5733ca87d6698\"\n      }, \n      \"area\": 1396, \n      \"country\": \"Faeroe Islands\", \n      \"density\": 35, \n      \"pop\": 48826\n    }, \n    {\n      \"_id\": {\n        \"$oid\": \"600ad53e00e5733ca87d669b\"\n      }, \n      \"area\": 950, \n      \"country\": \"Turks and Caicos\", \n      \"density\": 41, \n      \"pop\": 38609\n    }, \n    {\n      \"_id\": {\n        \"$oid\": \"600ad53e00e5733ca87d66a2\"\n      }, \n      \"area\": 460, \n      \"country\": \"Palau\", \n      \"density\": 39, \n      \"pop\": 18077\n    }, \n    {\n      \"_id\": {\n        \"$oid\": \"600ad53e00e5733ca87d66a9\"\n      }, \n      \"area\": 390, \n      \"country\": \"Saint Helena\", \n      \"density\": 16, \n      \"pop\": 6073\n    }, \n    {\n      \"_id\": {\n        \"$oid\": \"600ad53e00e5733ca87d66aa\"\n      }, \n      \"area\": 230, \n      \"country\": \"Saint Pierre & Miquelon\", \n      \"density\": 25, \n      \"pop\": 5800\n    }, \n    {\n      \"_id\": {\n        \"$oid\": \"600ad53e00e5733ca87d66ac\"\n      }, \n      \"area\": 12170, \n      \"country\": \"Falkland Islands\", \n      \"density\": 0, \n      \"pop\": 3458\n    }, \n    {\n      \"_id\": {\n        \"$oid\": \"600ad53e00e5733ca87d66ad\"\n      }, \n      \"area\": 260, \n      \"country\": \"Niue\", \n      \"density\": 6, \n      \"pop\": 1624\n    }, \n    {\n      \"_id\": {\n        \"$oid\": \"600af3cfe1a2b330a2d55a75\"\n      }, \n      \"area\": 603611, \n      \"country\": \"Toto\", \n      \"density\": 31, \n      \"last_update\": {\n        \"$date\": 1611334111390\n      }, \n      \"pop\": 4391812\n    }\n  ]\n}\n\n"
     ]
    }
   ],
   "source": [
    "url = \"http://127.0.0.1:8080/api/class\"\n",
    "response = requests.get(url)\n",
    "print(response.text)"
   ]
  }
 ]
}