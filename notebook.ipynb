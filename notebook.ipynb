{
 "metadata": {
  "language_info": {
   "codemirror_mode": {
    "name": "ipython",
    "version": 3
   },
   "file_extension": ".py",
   "mimetype": "text/x-python",
   "name": "python",
   "nbconvert_exporter": "python",
   "pygments_lexer": "ipython3",
   "version": "3.7.9-final"
  },
  "orig_nbformat": 2,
  "kernelspec": {
   "name": "python3",
   "display_name": "Python 3",
   "language": "python"
  }
 },
 "nbformat": 4,
 "nbformat_minor": 2,
 "cells": [
  {
   "source": [
    "# Tests de l'API PAYS"
   ],
   "cell_type": "markdown",
   "metadata": {}
  },
  {
   "source": [
    "## Imports"
   ],
   "cell_type": "markdown",
   "metadata": {}
  },
  {
   "cell_type": "code",
   "execution_count": 1,
   "metadata": {},
   "outputs": [],
   "source": [
    "import requests"
   ]
  },
  {
   "source": [
    "## Ajout d'un pays"
   ],
   "cell_type": "markdown",
   "metadata": {}
  },
  {
   "cell_type": "code",
   "execution_count": 74,
   "metadata": {
    "tags": []
   },
   "outputs": [
    {
     "output_type": "stream",
     "name": "stdout",
     "text": [
      "{\n  \"_id\": {\n    \"$oid\": \"600c5a60d6f9e2052b29452b\"\n  }, \n  \"area\": 330715, \n  \"country\": \"Gotham\", \n  \"density\": 719, \n  \"last_update\": {\n    \"$date\": 1611425904415\n  }, \n  \"pop\": 232645\n}\n\n"
     ]
    }
   ],
   "source": [
    "datas =  {\"name\" : \"Gotham\"}\n",
    "\n",
    "url = \"http://127.0.0.1:8080/api/add\" \n",
    "response = requests.post(url, data=datas)\n",
    "print(response.text)"
   ]
  },
  {
   "source": [
    "## Visualisation du pays"
   ],
   "cell_type": "markdown",
   "metadata": {}
  },
  {
   "cell_type": "code",
   "execution_count": 86,
   "metadata": {},
   "outputs": [
    {
     "output_type": "stream",
     "name": "stdout",
     "text": [
      "{\n  \"_id\": {\n    \"$oid\": \"600c5a60d6f9e2052b29452b\"\n  }, \n  \"area\": 330715, \n  \"country\": \"Gotham\", \n  \"density\": 719, \n  \"last_update\": {\n    \"$date\": 1611425904415\n  }, \n  \"pop\": 232645\n}\n\n"
     ]
    }
   ],
   "source": [
    "name = \"Gotham\"\n",
    "\n",
    "url = \"http://127.0.0.1:8080/api/request/\" + name\n",
    "response = requests.get(url)\n",
    "print(response.text)"
   ]
  },
  {
   "source": [
    "## Suppression du pays"
   ],
   "cell_type": "markdown",
   "metadata": {}
  },
  {
   "cell_type": "code",
   "execution_count": 48,
   "metadata": {
    "tags": []
   },
   "outputs": [
    {
     "output_type": "stream",
     "name": "stdout",
     "text": [
      "{\n  \"Message\": \"The country has been deleted.\"\n}\n\n"
     ]
    }
   ],
   "source": [
    "datas =  {\"name\" : \"Gotham\"}\n",
    "\n",
    "url = \"http://127.0.0.1:8080/api/remove\" \n",
    "response = requests.delete(url, data=datas)\n",
    "print(response.text)"
   ]
  },
  {
   "source": [
    "## Vérification de la suppression"
   ],
   "cell_type": "markdown",
   "metadata": {}
  },
  {
   "cell_type": "code",
   "execution_count": 64,
   "metadata": {},
   "outputs": [
    {
     "output_type": "stream",
     "name": "stdout",
     "text": [
      "<!DOCTYPE HTML PUBLIC \"-//W3C//DTD HTML 4.01 Transitional//EN\"\n  \"http://www.w3.org/TR/html4/loose.dtd\">\n<html>\n  <head>\n    <title>TypeError: The view function did not return a valid response. The function either returned None or ended without a return statement. // Werkzeug Debugger</title>\n    <link rel=\"stylesheet\" href=\"?__debugger__=yes&amp;cmd=resource&amp;f=style.css\"\n        type=\"text/css\">\n    <!-- We need to make sure this has a favicon so that the debugger does\n         not by accident trigger a request to /favicon.ico which might\n         change the application state. -->\n    <link rel=\"shortcut icon\"\n        href=\"?__debugger__=yes&amp;cmd=resource&amp;f=console.png\">\n    <script src=\"?__debugger__=yes&amp;cmd=resource&amp;f=jquery.js\"></script>\n    <script src=\"?__debugger__=yes&amp;cmd=resource&amp;f=debugger.js\"></script>\n    <script type=\"text/javascript\">\n      var TRACEBACK = 2475097667272,\n          CONSOLE_MODE = false,\n          EVALEX = true,\n          EVALEX_TRUSTED = false,\n          SECRET = \"c09OKdl9mWTF0SKI086a\";\n    </script>\n  </head>\n  <body style=\"background-color: #fff\">\n    <div class=\"debugger\">\n<h1>TypeError</h1>\n<div class=\"detail\">\n  <p class=\"errormsg\">TypeError: The view function did not return a valid response. The function either returned None or ended without a return statement.</p>\n</div>\n<h2 class=\"traceback\">Traceback <em>(most recent call last)</em></h2>\n<div class=\"traceback\">\n  \n  <ul><li><div class=\"frame\" id=\"frame-2475097667080\">\n  <h4>File <cite class=\"filename\">\"C:\\Users\\utilisateur\\anaconda3\\lib\\site-packages\\flask\\app.py\"</cite>,\n      line <em class=\"line\">2464</em>,\n      in <code class=\"function\">__call__</code></h4>\n  <div class=\"source \"><pre class=\"line before\"><span class=\"ws\"></span> </pre>\n<pre class=\"line before\"><span class=\"ws\">    </span>def __call__(self, environ, start_response):</pre>\n<pre class=\"line before\"><span class=\"ws\">        </span>&quot;&quot;&quot;The WSGI server calls the Flask application object as the</pre>\n<pre class=\"line before\"><span class=\"ws\">        </span>WSGI application. This calls :meth:`wsgi_app` which can be</pre>\n<pre class=\"line before\"><span class=\"ws\">        </span>wrapped to applying middleware.&quot;&quot;&quot;</pre>\n<pre class=\"line current\"><span class=\"ws\">        </span>return self.wsgi_app(environ, start_response)</pre>\n<pre class=\"line after\"><span class=\"ws\"></span> </pre>\n<pre class=\"line after\"><span class=\"ws\">    </span>def __repr__(self):</pre>\n<pre class=\"line after\"><span class=\"ws\">        </span>return &quot;&lt;%s %r&gt;&quot; % (self.__class__.__name__, self.name)</pre></div>\n</div>\n\n<li><div class=\"frame\" id=\"frame-2475097667016\">\n  <h4>File <cite class=\"filename\">\"C:\\Users\\utilisateur\\anaconda3\\lib\\site-packages\\flask\\app.py\"</cite>,\n      line <em class=\"line\">2450</em>,\n      in <code class=\"function\">wsgi_app</code></h4>\n  <div class=\"source \"><pre class=\"line before\"><span class=\"ws\">            </span>try:</pre>\n<pre class=\"line before\"><span class=\"ws\">                </span>ctx.push()</pre>\n<pre class=\"line before\"><span class=\"ws\">                </span>response = self.full_dispatch_request()</pre>\n<pre class=\"line before\"><span class=\"ws\">            </span>except Exception as e:</pre>\n<pre class=\"line before\"><span class=\"ws\">                </span>error = e</pre>\n<pre class=\"line current\"><span class=\"ws\">                </span>response = self.handle_exception(e)</pre>\n<pre class=\"line after\"><span class=\"ws\">            </span>except:  # noqa: B001</pre>\n<pre class=\"line after\"><span class=\"ws\">                </span>error = sys.exc_info()[1]</pre>\n<pre class=\"line after\"><span class=\"ws\">                </span>raise</pre>\n<pre class=\"line after\"><span class=\"ws\">            </span>return response(environ, start_response)</pre>\n<pre class=\"line after\"><span class=\"ws\">        </span>finally:</pre></div>\n</div>\n\n<li><div class=\"frame\" id=\"frame-2475097665992\">\n  <h4>File <cite class=\"filename\">\"C:\\Users\\utilisateur\\anaconda3\\lib\\site-packages\\flask\\app.py\"</cite>,\n      line <em class=\"line\">1867</em>,\n      in <code class=\"function\">handle_exception</code></h4>\n  <div class=\"source \"><pre class=\"line before\"><span class=\"ws\">            </span># if we want to repropagate the exception, we can attempt to</pre>\n<pre class=\"line before\"><span class=\"ws\">            </span># raise it with the whole traceback in case we can do that</pre>\n<pre class=\"line before\"><span class=\"ws\">            </span># (the function was actually called from the except part)</pre>\n<pre class=\"line before\"><span class=\"ws\">            </span># otherwise, we just raise the error again</pre>\n<pre class=\"line before\"><span class=\"ws\">            </span>if exc_value is e:</pre>\n<pre class=\"line current\"><span class=\"ws\">                </span>reraise(exc_type, exc_value, tb)</pre>\n<pre class=\"line after\"><span class=\"ws\">            </span>else:</pre>\n<pre class=\"line after\"><span class=\"ws\">                </span>raise e</pre>\n<pre class=\"line after\"><span class=\"ws\"></span> </pre>\n<pre class=\"line after\"><span class=\"ws\">        </span>self.log_exception((exc_type, exc_value, tb))</pre>\n<pre class=\"line after\"><span class=\"ws\">        </span>server_error = InternalServerError()</pre></div>\n</div>\n\n<li><div class=\"frame\" id=\"frame-2475097666120\">\n  <h4>File <cite class=\"filename\">\"C:\\Users\\utilisateur\\anaconda3\\lib\\site-packages\\flask\\_compat.py\"</cite>,\n      line <em class=\"line\">39</em>,\n      in <code class=\"function\">reraise</code></h4>\n  <div class=\"source \"><pre class=\"line before\"><span class=\"ws\">    </span>import collections.abc as collections_abc</pre>\n<pre class=\"line before\"><span class=\"ws\"></span> </pre>\n<pre class=\"line before\"><span class=\"ws\">    </span>def reraise(tp, value, tb=None):</pre>\n<pre class=\"line before\"><span class=\"ws\">        </span>if value.__traceback__ is not tb:</pre>\n<pre class=\"line before\"><span class=\"ws\">            </span>raise value.with_traceback(tb)</pre>\n<pre class=\"line current\"><span class=\"ws\">        </span>raise value</pre>\n<pre class=\"line after\"><span class=\"ws\"></span> </pre>\n<pre class=\"line after\"><span class=\"ws\">    </span>implements_to_string = _identity</pre>\n<pre class=\"line after\"><span class=\"ws\"></span> </pre>\n<pre class=\"line after\"><span class=\"ws\"></span>else:</pre>\n<pre class=\"line after\"><span class=\"ws\">    </span>iterkeys = lambda d: d.iterkeys()</pre></div>\n</div>\n\n<li><div class=\"frame\" id=\"frame-2475097667336\">\n  <h4>File <cite class=\"filename\">\"C:\\Users\\utilisateur\\anaconda3\\lib\\site-packages\\flask\\app.py\"</cite>,\n      line <em class=\"line\">2447</em>,\n      in <code class=\"function\">wsgi_app</code></h4>\n  <div class=\"source \"><pre class=\"line before\"><span class=\"ws\">        </span>ctx = self.request_context(environ)</pre>\n<pre class=\"line before\"><span class=\"ws\">        </span>error = None</pre>\n<pre class=\"line before\"><span class=\"ws\">        </span>try:</pre>\n<pre class=\"line before\"><span class=\"ws\">            </span>try:</pre>\n<pre class=\"line before\"><span class=\"ws\">                </span>ctx.push()</pre>\n<pre class=\"line current\"><span class=\"ws\">                </span>response = self.full_dispatch_request()</pre>\n<pre class=\"line after\"><span class=\"ws\">            </span>except Exception as e:</pre>\n<pre class=\"line after\"><span class=\"ws\">                </span>error = e</pre>\n<pre class=\"line after\"><span class=\"ws\">                </span>response = self.handle_exception(e)</pre>\n<pre class=\"line after\"><span class=\"ws\">            </span>except:  # noqa: B001</pre>\n<pre class=\"line after\"><span class=\"ws\">                </span>error = sys.exc_info()[1]</pre></div>\n</div>\n\n<li><div class=\"frame\" id=\"frame-2475097666760\">\n  <h4>File <cite class=\"filename\">\"C:\\Users\\utilisateur\\anaconda3\\lib\\site-packages\\flask\\app.py\"</cite>,\n      line <em class=\"line\">1953</em>,\n      in <code class=\"function\">full_dispatch_request</code></h4>\n  <div class=\"source \"><pre class=\"line before\"><span class=\"ws\">            </span>rv = self.preprocess_request()</pre>\n<pre class=\"line before\"><span class=\"ws\">            </span>if rv is None:</pre>\n<pre class=\"line before\"><span class=\"ws\">                </span>rv = self.dispatch_request()</pre>\n<pre class=\"line before\"><span class=\"ws\">        </span>except Exception as e:</pre>\n<pre class=\"line before\"><span class=\"ws\">            </span>rv = self.handle_user_exception(e)</pre>\n<pre class=\"line current\"><span class=\"ws\">        </span>return self.finalize_request(rv)</pre>\n<pre class=\"line after\"><span class=\"ws\"></span> </pre>\n<pre class=\"line after\"><span class=\"ws\">    </span>def finalize_request(self, rv, from_error_handler=False):</pre>\n<pre class=\"line after\"><span class=\"ws\">        </span>&quot;&quot;&quot;Given the return value from a view function this finalizes</pre>\n<pre class=\"line after\"><span class=\"ws\">        </span>the request by converting it into a response and invoking the</pre>\n<pre class=\"line after\"><span class=\"ws\">        </span>postprocessing functions.  This is invoked for both normal</pre></div>\n</div>\n\n<li><div class=\"frame\" id=\"frame-2475097666312\">\n  <h4>File <cite class=\"filename\">\"C:\\Users\\utilisateur\\anaconda3\\lib\\site-packages\\flask\\app.py\"</cite>,\n      line <em class=\"line\">1968</em>,\n      in <code class=\"function\">finalize_request</code></h4>\n  <div class=\"source \"><pre class=\"line before\"><span class=\"ws\">        </span>with the `from_error_handler` flag.  If enabled, failures in</pre>\n<pre class=\"line before\"><span class=\"ws\">        </span>response processing will be logged and otherwise ignored.</pre>\n<pre class=\"line before\"><span class=\"ws\"></span> </pre>\n<pre class=\"line before\"><span class=\"ws\">        </span>:internal:</pre>\n<pre class=\"line before\"><span class=\"ws\">        </span>&quot;&quot;&quot;</pre>\n<pre class=\"line current\"><span class=\"ws\">        </span>response = self.make_response(rv)</pre>\n<pre class=\"line after\"><span class=\"ws\">        </span>try:</pre>\n<pre class=\"line after\"><span class=\"ws\">            </span>response = self.process_response(response)</pre>\n<pre class=\"line after\"><span class=\"ws\">            </span>request_finished.send(self, response=response)</pre>\n<pre class=\"line after\"><span class=\"ws\">        </span>except Exception:</pre>\n<pre class=\"line after\"><span class=\"ws\">            </span>if not from_error_handler:</pre></div>\n</div>\n\n<li><div class=\"frame\" id=\"frame-2475097665864\">\n  <h4>File <cite class=\"filename\">\"C:\\Users\\utilisateur\\anaconda3\\lib\\site-packages\\flask\\app.py\"</cite>,\n      line <em class=\"line\">2098</em>,\n      in <code class=\"function\">make_response</code></h4>\n  <div class=\"source \"><pre class=\"line before\"><span class=\"ws\">                </span>)</pre>\n<pre class=\"line before\"><span class=\"ws\"></span> </pre>\n<pre class=\"line before\"><span class=\"ws\">        </span># the body must not be None</pre>\n<pre class=\"line before\"><span class=\"ws\">        </span>if rv is None:</pre>\n<pre class=\"line before\"><span class=\"ws\">            </span>raise TypeError(</pre>\n<pre class=\"line current\"><span class=\"ws\">                </span>&quot;The view function did not return a valid response. The&quot;</pre>\n<pre class=\"line after\"><span class=\"ws\">                </span>&quot; function either returned None or ended without a return&quot;</pre>\n<pre class=\"line after\"><span class=\"ws\">                </span>&quot; statement.&quot;</pre>\n<pre class=\"line after\"><span class=\"ws\">            </span>)</pre>\n<pre class=\"line after\"><span class=\"ws\"></span> </pre>\n<pre class=\"line after\"><span class=\"ws\">        </span># make sure the body is an instance of the response class</pre></div>\n</div>\n</ul>\n  <blockquote>TypeError: The view function did not return a valid response. The function either returned None or ended without a return statement.</blockquote>\n</div>\n\n<div class=\"plain\">\n  <form action=\"/?__debugger__=yes&amp;cmd=paste\" method=\"post\">\n    <p>\n      <input type=\"hidden\" name=\"language\" value=\"pytb\">\n      This is the Copy/Paste friendly version of the traceback.  <span\n      class=\"pastemessage\">You can also paste this traceback into\n      a <a href=\"https://gist.github.com/\">gist</a>:\n      <input type=\"submit\" value=\"create paste\"></span>\n    </p>\n    <textarea cols=\"50\" rows=\"10\" name=\"code\" readonly>Traceback (most recent call last):\n  File &quot;C:\\Users\\utilisateur\\anaconda3\\lib\\site-packages\\flask\\app.py&quot;, line 2464, in __call__\n    return self.wsgi_app(environ, start_response)\n  File &quot;C:\\Users\\utilisateur\\anaconda3\\lib\\site-packages\\flask\\app.py&quot;, line 2450, in wsgi_app\n    response = self.handle_exception(e)\n  File &quot;C:\\Users\\utilisateur\\anaconda3\\lib\\site-packages\\flask\\app.py&quot;, line 1867, in handle_exception\n    reraise(exc_type, exc_value, tb)\n  File &quot;C:\\Users\\utilisateur\\anaconda3\\lib\\site-packages\\flask\\_compat.py&quot;, line 39, in reraise\n    raise value\n  File &quot;C:\\Users\\utilisateur\\anaconda3\\lib\\site-packages\\flask\\app.py&quot;, line 2447, in wsgi_app\n    response = self.full_dispatch_request()\n  File &quot;C:\\Users\\utilisateur\\anaconda3\\lib\\site-packages\\flask\\app.py&quot;, line 1953, in full_dispatch_request\n    return self.finalize_request(rv)\n  File &quot;C:\\Users\\utilisateur\\anaconda3\\lib\\site-packages\\flask\\app.py&quot;, line 1968, in finalize_request\n    response = self.make_response(rv)\n  File &quot;C:\\Users\\utilisateur\\anaconda3\\lib\\site-packages\\flask\\app.py&quot;, line 2098, in make_response\n    &quot;The view function did not return a valid response. The&quot;\nTypeError: The view function did not return a valid response. The function either returned None or ended without a return statement.</textarea>\n  </form>\n</div>\n<div class=\"explanation\">\n  The debugger caught an exception in your WSGI application.  You can now\n  look at the traceback which led to the error.  <span class=\"nojavascript\">\n  If you enable JavaScript you can also use additional features such as code\n  execution (if the evalex feature is enabled), automatic pasting of the\n  exceptions and much more.</span>\n</div>\n      <div class=\"footer\">\n        Brought to you by <strong class=\"arthur\">DON'T PANIC</strong>, your\n        friendly Werkzeug powered traceback interpreter.\n      </div>\n    </div>\n\n    <div class=\"pin-prompt\">\n      <div class=\"inner\">\n        <h3>Console Locked</h3>\n        <p>\n          The console is locked and needs to be unlocked by entering the PIN.\n          You can find the PIN printed out on the standard output of your\n          shell that runs the server.\n        <form>\n          <p>PIN:\n            <input type=text name=pin size=14>\n            <input type=submit name=btn value=\"Confirm Pin\">\n        </form>\n      </div>\n    </div>\n  </body>\n</html>\n\n<!--\n\nTraceback (most recent call last):\n  File \"C:\\Users\\utilisateur\\anaconda3\\lib\\site-packages\\flask\\app.py\", line 2464, in __call__\n    return self.wsgi_app(environ, start_response)\n  File \"C:\\Users\\utilisateur\\anaconda3\\lib\\site-packages\\flask\\app.py\", line 2450, in wsgi_app\n    response = self.handle_exception(e)\n  File \"C:\\Users\\utilisateur\\anaconda3\\lib\\site-packages\\flask\\app.py\", line 1867, in handle_exception\n    reraise(exc_type, exc_value, tb)\n  File \"C:\\Users\\utilisateur\\anaconda3\\lib\\site-packages\\flask\\_compat.py\", line 39, in reraise\n    raise value\n  File \"C:\\Users\\utilisateur\\anaconda3\\lib\\site-packages\\flask\\app.py\", line 2447, in wsgi_app\n    response = self.full_dispatch_request()\n  File \"C:\\Users\\utilisateur\\anaconda3\\lib\\site-packages\\flask\\app.py\", line 1953, in full_dispatch_request\n    return self.finalize_request(rv)\n  File \"C:\\Users\\utilisateur\\anaconda3\\lib\\site-packages\\flask\\app.py\", line 1968, in finalize_request\n    response = self.make_response(rv)\n  File \"C:\\Users\\utilisateur\\anaconda3\\lib\\site-packages\\flask\\app.py\", line 2098, in make_response\n    \"The view function did not return a valid response. The\"\nTypeError: The view function did not return a valid response. The function either returned None or ended without a return statement.\n\n-->\n\n"
     ]
    }
   ],
   "source": [
    "name = \"Gotham\"\n",
    "\n",
    "url = \"http://127.0.0.1:8080/api/request/\" + name\n",
    "response = requests.get(url)\n",
    "print(response.text)"
   ]
  },
  {
   "source": [
    "## Affichage par tranches de densité"
   ],
   "cell_type": "markdown",
   "metadata": {}
  },
  {
   "cell_type": "code",
   "execution_count": 40,
   "metadata": {
    "tags": [
     "outputPrepend"
    ]
   },
   "outputs": [
    {
     "output_type": "stream",
     "name": "stdout",
     "text": [
      "ea\": 88780, \n      \"country\": \"Jordan\", \n      \"density\": 115, \n      \"pop\": 10182442\n    }, \n    {\n      \"_id\": {\n        \"$oid\": \"600ad53e00e5733ca87d661d\"\n      }, \n      \"area\": 91590, \n      \"country\": \"Portugal\", \n      \"density\": 111, \n      \"pop\": 10202571\n    }, \n    {\n      \"_id\": {\n        \"$oid\": \"600ad53e00e5733ca87d661e\"\n      }, \n      \"area\": 82658, \n      \"country\": \"Azerbaijan\", \n      \"density\": 123, \n      \"pop\": 10120555\n    }, \n    {\n      \"_id\": {\n        \"$oid\": \"600ad53e00e5733ca87d6620\"\n      }, \n      \"area\": 111890, \n      \"country\": \"Honduras\", \n      \"density\": 89, \n      \"pop\": 9871892\n    }, \n    {\n      \"_id\": {\n        \"$oid\": \"600ad53e00e5733ca87d6621\"\n      }, \n      \"area\": 83600, \n      \"country\": \"United Arab Emirates\", \n      \"density\": 118, \n      \"pop\": 9865845\n    }, \n    {\n      \"_id\": {\n        \"$oid\": \"600ad53e00e5733ca87d6622\"\n      }, \n      \"area\": 90530, \n      \"country\": \"Hungary\", \n      \"density\": 107, \n      \"pop\": 9665192\n    }, \n    {\n      \"_id\": {\n        \"$oid\": \"600ad53e00e5733ca87d6623\"\n      }, \n      \"area\": 139960, \n      \"country\": \"Tajikistan\", \n      \"density\": 68, \n      \"pop\": 9492342\n    }, \n    {\n      \"_id\": {\n        \"$oid\": \"600ad53e00e5733ca87d6625\"\n      }, \n      \"area\": 82409, \n      \"country\": \"Austria\", \n      \"density\": 109, \n      \"pop\": 8996022\n    }, \n    {\n      \"_id\": {\n        \"$oid\": \"600ad53e00e5733ca87d6627\"\n      }, \n      \"area\": 87460, \n      \"country\": \"Serbia\", \n      \"density\": 100, \n      \"pop\": 8744288\n    }, \n    {\n      \"_id\": {\n        \"$oid\": \"600ad53e00e5733ca87d662b\"\n      }, \n      \"area\": 72180, \n      \"country\": \"Sierra Leone\", \n      \"density\": 111, \n      \"pop\": 7942879\n    }, \n    {\n      \"_id\": {\n        \"$oid\": \"600ad53e00e5733ca87d662f\"\n      }, \n      \"area\": 108560, \n      \"country\": \"Bulgaria\", \n      \"density\": 64, \n      \"pop\": 6958627\n    }, \n    {\n      \"_id\": {\n        \"$oid\": \"600ad53e00e5733ca87d6632\"\n      }, \n      \"area\": 120340, \n      \"country\": \"Nicaragua\", \n      \"density\": 55, \n      \"pop\": 6608366\n    }, \n    {\n      \"_id\": {\n        \"$oid\": \"600ad53e00e5733ca87d663a\"\n      }, \n      \"area\": 48088, \n      \"country\": \"Slovakia\", \n      \"density\": 114, \n      \"pop\": 5459116\n    }, \n    {\n      \"_id\": {\n        \"$oid\": \"600ad53e00e5733ca87d663e\"\n      }, \n      \"area\": 51060, \n      \"country\": \"Costa Rica\", \n      \"density\": 100, \n      \"pop\": 5084636\n    }, \n    {\n      \"_id\": {\n        \"$oid\": \"600ad53e00e5733ca87d663f\"\n      }, \n      \"area\": 96320, \n      \"country\": \"Liberia\", \n      \"density\": 53, \n      \"pop\": 5032469\n    }, \n    {\n      \"_id\": {\n        \"$oid\": \"600ad53e00e5733ca87d6640\"\n      }, \n      \"area\": 68890, \n      \"country\": \"Ireland\", \n      \"density\": 72, \n      \"pop\": 4926480\n    }, \n    {\n      \"_id\": {\n        \"$oid\": \"600ad53e00e5733ca87d6644\"\n      }, \n      \"area\": 74340, \n      \"country\": \"Panama\", \n      \"density\": 58, \n      \"pop\": 4300667\n    }, \n    {\n      \"_id\": {\n        \"$oid\": \"600ad53e00e5733ca87d6646\"\n      }, \n      \"area\": 55960, \n      \"country\": \"Croatia\", \n      \"density\": 73, \n      \"pop\": 4110214\n    }, \n    {\n      \"_id\": {\n        \"$oid\": \"600ad53e00e5733ca87d6647\"\n      }, \n      \"area\": 32850, \n      \"country\": \"Moldova\", \n      \"density\": 123, \n      \"pop\": 4035814\n    }, \n    {\n      \"_id\": {\n        \"$oid\": \"600ad53e00e5733ca87d6648\"\n      }, \n      \"area\": 69490, \n      \"country\": \"Georgia\", \n      \"density\": 57, \n      \"pop\": 3990681\n    }, \n    {\n      \"_id\": {\n        \"$oid\": \"600ad53e00e5733ca87d664b\"\n      }, \n      \"area\": 51000, \n      \"country\": \"Bosnia and Herzegovina\", \n      \"density\": 64, \n      \"pop\": 3284806\n    }, \n    {\n      \"_id\": {\n        \"$oid\": \"600ad53e00e5733ca87d664d\"\n      }, \n      \"area\": 28470, \n      \"country\": \"Armenia\", \n      \"density\": 104, \n      \"pop\": 2962137\n    }, \n    {\n      \"_id\": {\n        \"$oid\": \"600ad53e00e5733ca87d6650\"\n      }, \n      \"area\": 27400, \n      \"country\": \"Albania\", \n      \"density\": 105, \n      \"pop\": 2878420\n    }, \n    {\n      \"_id\": {\n        \"$oid\": \"600ad53e00e5733ca87d6657\"\n      }, \n      \"area\": 30360, \n      \"country\": \"Lesotho\", \n      \"density\": 71, \n      \"pop\": 2138799\n    }, \n    {\n      \"_id\": {\n        \"$oid\": \"600ad53e00e5733ca87d6658\"\n      }, \n      \"area\": 25220, \n      \"country\": \"North Macedonia\", \n      \"density\": 83, \n      \"pop\": 2083391\n    }, \n    {\n      \"_id\": {\n        \"$oid\": \"600ad53e00e5733ca87d6659\"\n      }, \n      \"area\": 20140, \n      \"country\": \"Slovenia\", \n      \"density\": 103, \n      \"pop\": 2078881\n    }, \n    {\n      \"_id\": {\n        \"$oid\": \"600ad53e00e5733ca87d665a\"\n      }, \n      \"area\": 28120, \n      \"country\": \"Guinea-Bissau\", \n      \"density\": 70, \n      \"pop\": 1958132\n    }, \n    {\n      \"_id\": {\n        \"$oid\": \"600ad53e00e5733ca87d6660\"\n      }, \n      \"area\": 14870, \n      \"country\": \"Timor-Leste\", \n      \"density\": 89, \n      \"pop\": 1313184\n    }, \n    {\n      \"_id\": {\n        \"$oid\": \"600ad53e00e5733ca87d6662\"\n      }, \n      \"area\": 9240, \n      \"country\": \"Cyprus\", \n      \"density\": 131, \n      \"pop\": 1205577\n    }, \n    {\n      \"_id\": {\n        \"$oid\": \"600ad53e00e5733ca87d6663\"\n      }, \n      \"area\": 17200, \n      \"country\": \"Eswatini\", \n      \"density\": 67, \n      \"pop\": 1157707\n    }, \n    {\n      \"_id\": {\n        \"$oid\": \"600ad53e00e5733ca87d6673\"\n      }, \n      \"area\": 5270, \n      \"country\": \"Brunei\", \n      \"density\": 83, \n      \"pop\": 436624\n    }, \n    {\n      \"_id\": {\n        \"$oid\": \"600ad53e00e5733ca87d667d\"\n      }, \n      \"area\": 3660, \n      \"country\": \"French Polynesia\", \n      \"density\": 77, \n      \"pop\": 280580\n    }, \n    {\n      \"_id\": {\n        \"$oid\": \"600ad53e00e5733ca87d6680\"\n      }, \n      \"area\": 2830, \n      \"country\": \"Samoa\", \n      \"density\": 70, \n      \"pop\": 198147\n    }, \n    {\n      \"_id\": {\n        \"$oid\": \"600ad53e00e5733ca87d6690\"\n      }, \n      \"area\": 750, \n      \"country\": \"Dominica\", \n      \"density\": 96, \n      \"pop\": 71950\n    }, \n    {\n      \"_id\": {\n        \"$oid\": \"600ad53e00e5733ca87d6694\"\n      }, \n      \"area\": 460, \n      \"country\": \"Northern Mariana Islands\", \n      \"density\": 125, \n      \"pop\": 57490\n    }, \n    {\n      \"_id\": {\n        \"$oid\": \"600ad53e00e5733ca87d66a1\"\n      }, \n      \"area\": 328, \n      \"country\": \"Caribbean Netherlands\", \n      \"density\": 80, \n      \"pop\": 26173\n    }, \n    {\n      \"_id\": {\n        \"$oid\": \"600ad53e00e5733ca87d66a3\"\n      }, \n      \"area\": 240, \n      \"country\": \"Cook Islands\", \n      \"density\": 73, \n      \"pop\": 17561\n    }, \n    {\n      \"_id\": {\n        \"$oid\": \"600ad53e00e5733ca87d66a6\"\n      }, \n      \"area\": 140, \n      \"country\": \"Wallis & Futuna\", \n      \"density\": 80, \n      \"pop\": 11276\n    }\n  ], \n  \"Tr\\u00e8s peu denses\": [\n    {\n      \"_id\": {\n        \"$oid\": \"600ad53e00e5733ca87d65c7\"\n      }, \n      \"area\": 9147420, \n      \"country\": \"United States\", \n      \"density\": 36, \n      \"pop\": 330610570\n    }, \n    {\n      \"_id\": {\n        \"$oid\": \"600ad53e00e5733ca87d65ca\"\n      }, \n      \"area\": 8358140, \n      \"country\": \"Brazil\", \n      \"density\": 25, \n      \"pop\": 212253150\n    }, \n    {\n      \"_id\": {\n        \"$oid\": \"600ad53e00e5733ca87d65cd\"\n      }, \n      \"area\": 16376870, \n      \"country\": \"Russia\", \n      \"density\": 9, \n      \"pop\": 145922010\n    }, \n    {\n      \"_id\": {\n        \"$oid\": \"600ad53e00e5733ca87d65d4\"\n      }, \n      \"area\": 2267050, \n      \"country\": \"DR Congo\", \n      \"density\": 40, \n      \"pop\": 88972681\n    }, \n    {\n      \"_id\": {\n        \"$oid\": \"600ad53e00e5733ca87d65dd\"\n      }, \n      \"area\": 1213090, \n      \"country\": \"South Africa\", \n      \"density\": 49, \n      \"pop\": 59154802\n    }, \n    {\n      \"_id\": {\n        \"$oid\": \"600ad53e00e5733ca87d65e1\"\n      }, \n      \"area\": 1109500, \n      \"country\": \"Colombia\", \n      \"density\": 46, \n      \"pop\": 50771878\n    }, \n    {\n      \"_id\": {\n        \"$oid\": \"600ad53e00e5733ca87d65e4\"\n      }, \n      \"area\": 2736690, \n      \"country\": \"Argentina\", \n      \"density\": 17, \n      \"pop\": 45111229\n    }, \n    {\n      \"_id\": {\n        \"$oid\": \"600ad53e00e5733ca87d65e5\"\n      }, \n      \"area\": 2381740, \n      \"country\": \"Algeria\", \n      \"density\": 18, \n      \"pop\": 43685618\n    }, \n    {\n      \"_id\": {\n        \"$oid\": \"600ad53e00e5733ca87d65e6\"\n      }, \n      \"area\": 1765048, \n      \"country\": \"Sudan\", \n      \"density\": 25, \n      \"pop\": 43632213\n    }, \n    {\n      \"_id\": {\n        \"$oid\": \"600ad53e00e5733ca87d65eb\"\n      }, \n      \"area\": 9093510, \n      \"country\": \"Canada\", \n      \"density\": 4, \n      \"pop\": 37674770\n    }, \n    {\n      \"_id\": {\n        \"$oid\": \"600ad53e00e5733ca87d65ed\"\n      }, \n      \"area\": 2149690, \n      \"country\": \"Saudi Arabia\", \n      \"density\": 16, \n      \"pop\": 34701377\n    }, \n    {\n      \"_id\": {\n        \"$oid\": \"600ad53e00e5733ca87d65ef\"\n      }, \n      \"area\": 1280000, \n      \"country\": \"Peru\", \n      \"density\": 26, \n      \"pop\": 32876986\n    }, \n    {\n      \"_id\": {\n        \"$oid\": \"600ad53e00e5733ca87d65f0\"\n      }, \n      \"area\": 1246700, \n      \"country\": \"Angola\", \n      \"density\": 26, \n      \"pop\": 32644783\n    }, \n    {\n      \"_id\": {\n        \"$oid\": \"600ad53e00e5733ca87d65f2\"\n      }, \n      \"area\": 786380, \n      \"country\": \"Mozambique\", \n      \"density\": 40, \n      \"pop\": 31067362\n    }, \n    {\n      \"_id\": {\n        \"$oid\": \"600ad53e00e5733ca87d65f6\"\n      }, \n      \"area\": 882050, \n      \"country\": \"Venezuela\", \n      \"density\": 32, \n      \"pop\": 28451828\n    }, \n    {\n      \"_id\": {\n        \"$oid\": \"600ad53e00e5733ca87d65f7\"\n      }, \n      \"area\": 581795, \n      \"country\": \"Madagascar\", \n      \"density\": 48, \n      \"pop\": 27539106\n    }, \n    {\n      \"_id\": {\n        \"$oid\": \"600ad53e00e5733ca87d65fb\"\n      }, \n      \"area\": 7682300, \n      \"country\": \"Australia\", \n      \"density\": 3, \n      \"pop\": 25439164\n    }, \n    {\n      \"_id\": {\n        \"$oid\": \"600ad53e00e5733ca87d65fc\"\n      }, \n      \"area\": 1266700, \n      \"country\": \"Niger\", \n      \"density\": 19, \n      \"pop\": 24014064\n    }, \n    {\n      \"_id\": {\n        \"$oid\": \"600ad53e00e5733ca87d6600\"\n      }, \n      \"area\": 1220190, \n      \"country\": \"Mali\", \n      \"density\": 17, \n      \"pop\": 20125282\n    }, \n    {\n      \"_id\": {\n        \"$oid\": \"600ad53e00e5733ca87d6603\"\n      }, \n      \"area\": 743532, \n      \"country\": \"Chile\", \n      \"density\": 26, \n      \"pop\": 19082804\n    }, \n    {\n      \"_id\": {\n        \"$oid\": \"600ad53e00e5733ca87d6604\"\n      }, \n      \"area\": 2699700, \n      \"country\": \"Kazakhstan\", \n      \"density\": 7, \n      \"pop\": 18730568\n    }, \n    {\n      \"_id\": {\n        \"$oid\": \"600ad53e00e5733ca87d6605\"\n      }, \n      \"area\": 743390, \n      \"country\": \"Zambia\", \n      \"density\": 25, \n      \"pop\": 18273379\n    }, \n    {\n      \"_id\": {\n        \"$oid\": \"600ad53e00e5733ca87d660c\"\n      }, \n      \"area\": 1259200, \n      \"country\": \"Chad\", \n      \"density\": 13, \n      \"pop\": 16324440\n    }, \n    {\n      \"_id\": {\n        \"$oid\": \"600ad53e00e5733ca87d660d\"\n      }, \n      \"area\": 627340, \n      \"country\": \"Somalia\", \n      \"density\": 25, \n      \"pop\": 15798020\n    }, \n    {\n      \"_id\": {\n        \"$oid\": \"600ad53e00e5733ca87d660e\"\n      }, \n      \"area\": 386850, \n      \"country\": \"Zimbabwe\", \n      \"density\": 38, \n      \"pop\": 14818157\n    }, \n    {\n      \"_id\": {\n        \"$oid\": \"600ad53e00e5733ca87d6614\"\n      }, \n      \"area\": 1083300, \n      \"country\": \"Bolivia\", \n      \"density\": 11, \n      \"pop\": 11640159\n    }, \n    {\n      \"_id\": {\n        \"$oid\": \"600ad53e00e5733ca87d6618\"\n      }, \n      \"area\": 610952, \n      \"country\": \"South Sudan\", \n      \"density\": 18, \n      \"pop\": 11166783\n    }, \n    {\n      \"_id\": {\n        \"$oid\": \"600ad53e00e5733ca87d661f\"\n      }, \n      \"area\": 410340, \n      \"country\": \"Sweden\", \n      \"density\": 25, \n      \"pop\": 10086531\n    }, \n    {\n      \"_id\": {\n        \"$oid\": \"600ad53e00e5733ca87d6624\"\n      }, \n      \"area\": 202910, \n      \"country\": \"Belarus\", \n      \"density\": 47, \n      \"pop\": 9449940\n    }, \n    {\n      \"_id\": {\n        \"$oid\": \"600ad53e00e5733ca87d6626\"\n      }, \n      \"area\": 452860, \n      \"country\": \"Papua New Guinea\", \n      \"density\": 20, \n      \"pop\": 8911530\n    }, \n    {\n      \"_id\": {\n        \"$oid\": \"600ad53e00e5733ca87d662d\"\n      }, \n      \"area\": 230800, \n      \"country\": \"Laos\", \n      \"density\": 32, \n      \"pop\": 7253719\n    }, \n    {\n      \"_id\": {\n        \"$oid\": \"600ad53e00e5733ca87d662e\"\n      }, \n      \"area\": 397300, \n      \"country\": \"Paraguay\", \n      \"density\": 18, \n      \"pop\": 7114524\n    }, \n    {\n      \"_id\": {\n        \"$oid\": \"600ad53e00e5733ca87d6630\"\n      }, \n      \"area\": 1759540, \n      \"country\": \"Libya\", \n      \"density\": 4, \n      \"pop\": 6852010\n    }, \n    {\n      \"_id\": {\n        \"$oid\": \"600ad53e00e5733ca87d6633\"\n      }, \n      \"area\": 191800, \n      \"country\": \"Kyrgyzstan\", \n      \"density\": 34, \n      \"pop\": 6501804\n    }, \n    {\n      \"_id\": {\n        \"$oid\": \"600ad53e00e5733ca87d6635\"\n      }, \n      \"area\": 469930, \n      \"country\": \"Turkmenistan\", \n      \"density\": 13, \n      \"pop\": 6012850\n    }, \n    {\n      \"_id\": {\n        \"$oid\": \"600ad53e00e5733ca87d6638\"\n      }, \n      \"area\": 303890, \n      \"country\": \"Finland\", \n      \"density\": 18, \n      \"pop\": 5539002\n    }, \n    {\n      \"_id\": {\n        \"$oid\": \"600ad53e00e5733ca87d6639\"\n      }, \n      \"area\": 341500, \n      \"country\": \"Congo\", \n      \"density\": 16, \n      \"pop\": 5489191\n    }, \n    {\n      \"_id\": {\n        \"$oid\": \"600ad53e00e5733ca87d663b\"\n      }, \n      \"area\": 365268, \n      \"country\": \"Norway\", \n      \"density\": 15, \n      \"pop\": 5412632\n    }, \n    {\n      \"_id\": {\n        \"$oid\": \"600ad53e00e5733ca87d663c\"\n      }, \n      \"area\": 309500, \n      \"country\": \"Oman\", \n      \"density\": 16, \n      \"pop\": 5078933\n    }, \n    {\n      \"_id\": {\n        \"$oid\": \"600ad53e00e5733ca87d6641\"\n      }, \n      \"area\": 622980, \n      \"country\": \"Central African Republic\", \n      \"density\": 8, \n      \"pop\": 4812256\n    }, \n    {\n      \"_id\": {\n        \"$oid\": \"600ad53e00e5733ca87d6642\"\n      }, \n      \"area\": 263310, \n      \"country\": \"New Zealand\", \n      \"density\": 18, \n      \"pop\": 4814272\n    }, \n    {\n      \"_id\": {\n        \"$oid\": \"600ad53e00e5733ca87d6643\"\n      }, \n      \"area\": 1030700, \n      \"country\": \"Mauritania\", \n      \"density\": 5, \n      \"pop\": 4623535\n    }, \n    {\n      \"_id\": {\n        \"$oid\": \"600ad53e00e5733ca87d6649\"\n      }, \n      \"area\": 101000, \n      \"country\": \"Eritrea\", \n      \"density\": 35, \n      \"pop\": 3536285\n    }, \n    {\n      \"_id\": {\n        \"$oid\": \"600ad53e00e5733ca87d664a\"\n      }, \n      \"area\": 175020, \n      \"country\": \"Uruguay\", \n      \"density\": 20, \n      \"pop\": 3471314\n    }, \n    {\n      \"_id\": {\n        \"$oid\": \"600ad53e00e5733ca87d664c\"\n      }, \n      \"area\": 1553560, \n      \"country\": \"Mongolia\", \n      \"density\": 2, \n      \"pop\": 3267320\n    }, \n    {\n      \"_id\": {\n        \"$oid\": \"600ad53e00e5733ca87d6652\"\n      }, \n      \"area\": 62674, \n      \"country\": \"Lithuania\", \n      \"density\": 43, \n      \"pop\": 2729553\n    }, \n    {\n      \"_id\": {\n        \"$oid\": \"600ad53e00e5733ca87d6653\"\n      }, \n      \"area\": 823290, \n      \"country\": \"Namibia\", \n      \"density\": 3, \n      \"pop\": 2531290\n    }, \n    {\n      \"_id\": {\n        \"$oid\": \"600ad53e00e5733ca87d6655\"\n      }, \n      \"area\": 566730, \n      \"country\": \"Botswana\", \n      \"density\": 4, \n      \"pop\": 2341649\n    }, \n    {\n      \"_id\": {\n        \"$oid\": \"600ad53e00e5733ca87d6656\"\n      }, \n      \"area\": 257670, \n      \"country\": \"Gabon\", \n      \"density\": 9, \n      \"pop\": 2214593\n    }, \n    {\n      \"_id\": {\n        \"$oid\": \"600ad53e00e5733ca87d665b\"\n      }, \n      \"area\": 62200, \n      \"country\": \"Latvia\", \n      \"density\": 30, \n      \"pop\": 1890218\n    }, \n    {\n      \"_id\": {\n        \"$oid\": \"600ad53e00e5733ca87d665f\"\n      }, \n      \"area\": 42390, \n      \"country\": \"Estonia\", \n      \"density\": 31, \n      \"pop\": 1326357\n    }, \n    {\n      \"_id\": {\n        \"$oid\": \"600ad53e00e5733ca87d6664\"\n      }, \n      \"area\": 23180, \n      \"country\": \"Djibouti\", \n      \"density\": 43, \n      \"pop\": 985027\n    }, \n    {\n      \"_id\": {\n        \"$oid\": \"600ad53e00e5733ca87d6665\"\n      }, \n      \"area\": 18270, \n      \"country\": \"Fiji\", \n      \"density\": 49, \n      \"pop\": 895128\n    }, \n    {\n      \"_id\": {\n        \"$oid\": \"600ad53e00e5733ca87d6668\"\n      }, \n      \"area\": 196850, \n      \"country\": \"Guyana\", \n      \"density\": 4, \n      \"pop\": 785788\n    }, \n    {\n      \"_id\": {\n        \"$oid\": \"600ad53e00e5733ca87d6669\"\n      }, \n      \"area\": 38117, \n      \"country\": \"Bhutan\", \n      \"density\": 20, \n      \"pop\": 769867\n    }, \n    {\n      \"_id\": {\n        \"$oid\": \"600ad53e00e5733ca87d666a\"\n      }, \n      \"area\": 27990, \n      \"country\": \"Solomon Islands\", \n      \"density\": 25, \n      \"pop\": 683301\n    }, \n    {\n      \"_id\": {\n        \"$oid\": \"600ad53e00e5733ca87d666c\"\n      }, \n      \"area\": 13450, \n      \"country\": \"Montenegro\", \n      \"density\": 47, \n      \"pop\": 628050\n    }, \n    {\n      \"_id\": {\n        \"$oid\": \"600ad53e00e5733ca87d666e\"\n      }, \n      \"area\": 266000, \n      \"country\": \"Western Sahara\", \n      \"density\": 2, \n      \"pop\": 594215\n    }, \n    {\n      \"_id\": {\n        \"$oid\": \"600ad53e00e5733ca87d666f\"\n      }, \n      \"area\": 156000, \n      \"country\": \"Suriname\", \n      \"density\": 4, \n      \"pop\": 585561\n    }, \n    {\n      \"_id\": {\n        \"$oid\": \"600ad53e00e5733ca87d6675\"\n      }, \n      \"area\": 22810, \n      \"country\": \"Belize\", \n      \"density\": 17, \n      \"pop\": 396120\n    }, \n    {\n      \"_id\": {\n        \"$oid\": \"600ad53e00e5733ca87d6676\"\n      }, \n      \"area\": 10010, \n      \"country\": \"Bahamas\", \n      \"density\": 39, \n      \"pop\": 392477\n    }, \n    {\n      \"_id\": {\n        \"$oid\": \"600ad53e00e5733ca87d6678\"\n      }, \n      \"area\": 100250, \n      \"country\": \"Iceland\", \n      \"density\": 3, \n      \"pop\": 340795\n    }, \n    {\n      \"_id\": {\n        \"$oid\": \"600ad53e00e5733ca87d6679\"\n      }, \n      \"area\": 12190, \n      \"country\": \"Vanuatu\", \n      \"density\": 25, \n      \"pop\": 305623\n    }, \n    {\n      \"_id\": {\n        \"$oid\": \"600ad53e00e5733ca87d667a\"\n      }, \n      \"area\": 82200, \n      \"country\": \"French Guiana\", \n      \"density\": 4, \n      \"pop\": 297029\n    }, \n    {\n      \"_id\": {\n        \"$oid\": \"600ad53e00e5733ca87d667c\"\n      }, \n      \"area\": 18280, \n      \"country\": \"New Caledonia\", \n      \"density\": 16, \n      \"pop\": 284938\n    }, \n    {\n      \"_id\": {\n        \"$oid\": \"600ad53e00e5733ca87d6695\"\n      }, \n      \"area\": 410450, \n      \"country\": \"Greenland\", \n      \"density\": 0, \n      \"pop\": 56750\n    }, \n    {\n      \"_id\": {\n        \"$oid\": \"600ad53e00e5733ca87d6698\"\n      }, \n      \"area\": 1396, \n      \"country\": \"Faeroe Islands\", \n      \"density\": 35, \n      \"pop\": 48826\n    }, \n    {\n      \"_id\": {\n        \"$oid\": \"600ad53e00e5733ca87d669b\"\n      }, \n      \"area\": 950, \n      \"country\": \"Turks and Caicos\", \n      \"density\": 41, \n      \"pop\": 38609\n    }, \n    {\n      \"_id\": {\n        \"$oid\": \"600ad53e00e5733ca87d66a2\"\n      }, \n      \"area\": 460, \n      \"country\": \"Palau\", \n      \"density\": 39, \n      \"pop\": 18077\n    }, \n    {\n      \"_id\": {\n        \"$oid\": \"600ad53e00e5733ca87d66a9\"\n      }, \n      \"area\": 390, \n      \"country\": \"Saint Helena\", \n      \"density\": 16, \n      \"pop\": 6073\n    }, \n    {\n      \"_id\": {\n        \"$oid\": \"600ad53e00e5733ca87d66aa\"\n      }, \n      \"area\": 230, \n      \"country\": \"Saint Pierre & Miquelon\", \n      \"density\": 25, \n      \"pop\": 5800\n    }, \n    {\n      \"_id\": {\n        \"$oid\": \"600ad53e00e5733ca87d66ac\"\n      }, \n      \"area\": 12170, \n      \"country\": \"Falkland Islands\", \n      \"density\": 0, \n      \"pop\": 3458\n    }, \n    {\n      \"_id\": {\n        \"$oid\": \"600ad53e00e5733ca87d66ad\"\n      }, \n      \"area\": 260, \n      \"country\": \"Niue\", \n      \"density\": 6, \n      \"pop\": 1624\n    }, \n    {\n      \"_id\": {\n        \"$oid\": \"600af3cfe1a2b330a2d55a75\"\n      }, \n      \"area\": 603611, \n      \"country\": \"Toto\", \n      \"density\": 31, \n      \"last_update\": {\n        \"$date\": 1611334111390\n      }, \n      \"pop\": 4391812\n    }\n  ]\n}\n\n"
     ]
    }
   ],
   "source": [
    "url = \"http://127.0.0.1:8080/api/class\"\n",
    "response = requests.get(url)\n",
    "print(response.text)"
   ]
  },
  {
   "cell_type": "code",
   "execution_count": 113,
   "metadata": {
    "tags": []
   },
   "outputs": [
    {
     "output_type": "stream",
     "name": "stdout",
     "text": [
      "{\n  \"_id\": {\n    \"$oid\": \"600c5a60d6f9e2052b29452b\"\n  }, \n  \"area\": 330715, \n  \"country\": \"Gotham\", \n  \"density\": 742, \n  \"last_update\": {\n    \"$date\": 1611427955084\n  }, \n  \"pop\": 232645\n}\n\n"
     ]
    }
   ],
   "source": [
    "datas =  {\"name\" : \"Gotham\", \"couple\" : \"{'density':1777}\"}\n",
    "\n",
    "url = \"http://127.0.0.1:8080/api/update\" \n",
    "response = requests.put(url, data=datas)\n",
    "print(response.text)"
   ]
  },
  {
   "cell_type": "code",
   "execution_count": null,
   "metadata": {},
   "outputs": [],
   "source": []
  }
 ]
}