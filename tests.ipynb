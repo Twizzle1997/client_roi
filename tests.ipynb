{
 "metadata": {
  "language_info": {
   "codemirror_mode": {
    "name": "ipython",
    "version": 3
   },
   "file_extension": ".py",
   "mimetype": "text/x-python",
   "name": "python",
   "nbconvert_exporter": "python",
   "pygments_lexer": "ipython3",
   "version": "3.7.9-final"
  },
  "orig_nbformat": 2,
  "kernelspec": {
   "name": "python3",
   "display_name": "Python 3",
   "language": "python"
  }
 },
 "nbformat": 4,
 "nbformat_minor": 2,
 "cells": [
  {
   "source": [
    "# Tests de l'API PAYS"
   ],
   "cell_type": "markdown",
   "metadata": {}
  },
  {
   "cell_type": "code",
   "execution_count": 1,
   "metadata": {},
   "outputs": [],
   "source": [
    "import requests"
   ]
  },
  {
   "source": [
    "## VISUALISATION D'UN PAYS"
   ],
   "cell_type": "markdown",
   "metadata": {}
  },
  {
   "cell_type": "code",
   "execution_count": 151,
   "metadata": {
    "tags": []
   },
   "outputs": [
    {
     "output_type": "stream",
     "name": "stdout",
     "text": [
      "{\n  \"_id\": {\n    \"$oid\": \"600ad53e00e5733ca87d65da\"\n  }, \n  \"area\": 547557, \n  \"country\": \"France\", \n  \"density\": 119, \n  \"pop\": 65244628\n}\n\n"
     ]
    }
   ],
   "source": [
    "name = \"France\"\n",
    "\n",
    "url = \"http://127.0.0.1:8080/api/request/\" + name\n",
    "response = requests.get(url)\n",
    "print(response.text)"
   ]
  },
  {
   "source": [
    "## AJOUT D'UN PAYS FICTIF"
   ],
   "cell_type": "markdown",
   "metadata": {}
  },
  {
   "cell_type": "code",
   "execution_count": 144,
   "metadata": {
    "tags": []
   },
   "outputs": [
    {
     "output_type": "stream",
     "name": "stdout",
     "text": [
      "{\n  \"_id\": {\n    \"$oid\": \"600c6b0cf937a57479aa3c1f\"\n  }, \n  \"area\": 550548, \n  \"country\": \"Gotham\", \n  \"density\": 283, \n  \"last_update\": {\n    \"$date\": 1611430172536\n  }, \n  \"pop\": 5487935\n}\n\n"
     ]
    }
   ],
   "source": [
    "datas =  {\"name\" : \"Gotham\"}\n",
    "\n",
    "url = \"http://127.0.0.1:8080/api/add\" \n",
    "response = requests.post(url, data=datas)\n",
    "print(response.text)"
   ]
  },
  {
   "source": [
    "## SUPPRESSION DU PAYS FICTIF"
   ],
   "cell_type": "markdown",
   "metadata": {}
  },
  {
   "cell_type": "code",
   "execution_count": 146,
   "metadata": {
    "tags": []
   },
   "outputs": [
    {
     "output_type": "stream",
     "name": "stdout",
     "text": [
      "{\n  \"Message\": \"The country has been deleted.\"\n}\n\n"
     ]
    }
   ],
   "source": [
    "datas =  {\"name\" : \"Gotham\"}\n",
    "\n",
    "url = \"http://127.0.0.1:8080/api/remove\" \n",
    "response = requests.delete(url, data=datas)\n",
    "print(response.text)"
   ]
  },
  {
   "source": [
    "## VERRIFICATION DE LA SUPPRESSION"
   ],
   "cell_type": "markdown",
   "metadata": {}
  },
  {
   "cell_type": "code",
   "execution_count": 152,
   "metadata": {},
   "outputs": [
    {
     "output_type": "stream",
     "name": "stdout",
     "text": [
      "{\n  \"Message\": \"This country doesn't exist.\"\n}\n\n"
     ]
    }
   ],
   "source": [
    "name = \"Gotham\"\n",
    "\n",
    "url = \"http://127.0.0.1:8080/api/request/\" + name\n",
    "response = requests.get(url)\n",
    "print(response.text)"
   ]
  },
  {
   "source": [
    "## MISE A JOUR D'UN PAYS"
   ],
   "cell_type": "markdown",
   "metadata": {}
  },
  {
   "cell_type": "code",
   "execution_count": 153,
   "metadata": {
    "tags": []
   },
   "outputs": [
    {
     "output_type": "stream",
     "name": "stdout",
     "text": [
      "{\n  \"_id\": {\n    \"$oid\": \"600c6ba6f937a57479aa3c20\"\n  }, \n  \"area\": 244378, \n  \"country\": \"Krypton\", \n  \"density\": 666, \n  \"last_update\": {\n    \"$date\": 1611430503561\n  }, \n  \"pop\": 2488504\n}\n\n"
     ]
    }
   ],
   "source": [
    "datas =  {\"name\" : \"Krypton\", \"couple\" : \"{'density':666}\"}\n",
    "\n",
    "url = \"http://127.0.0.1:8080/api/update\" \n",
    "response = requests.put(url, data=datas)\n",
    "print(response.text)"
   ]
  },
  {
   "source": [
    "## AFFICHAGE PAR TRANCHE DE DENSITE"
   ],
   "cell_type": "markdown",
   "metadata": {}
  },
  {
   "cell_type": "code",
   "execution_count": 155,
   "metadata": {
    "tags": []
   },
   "outputs": [
    {
     "output_type": "stream",
     "name": "stdout",
     "text": [
      "<Response [200]>\n"
     ]
    }
   ],
   "source": [
    "url = \"http://127.0.0.1:8080/api/class\"\n",
    "response = requests.get(url)\n",
    "print(response)"
   ]
  }
 ]
}